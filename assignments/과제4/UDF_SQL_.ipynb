{
 "cells": [
  {
   "cell_type": "code",
   "execution_count": 1,
   "id": "b8840b9e-6529-4aaa-a50c-5a1dfe9fb32a",
   "metadata": {},
   "outputs": [],
   "source": [
    "from pyspark.sql import SparkSession\n",
    "\n",
    "spark = SparkSession.builder.master('local').appName('UDF_SQL_').getOrCreate()"
   ]
  },
  {
   "cell_type": "code",
   "execution_count": 2,
   "id": "6f3b3740-a445-42dd-af10-d87bbb629fac",
   "metadata": {},
   "outputs": [],
   "source": [
    "Name_Age = [\n",
    "    ('황민태', 24),\n",
    "    ('김각윤', 24),\n",
    "    ('이신우', 25),\n",
    "    ('배기현', 30),\n",
    "    ('김현중', 37),\n",
    "    ('이순재', 50),\n",
    "    ('배현국', 77),\n",
    "    ('서욱', 80),\n",
    "    ('김승재', 90)]"
   ]
  },
  {
   "cell_type": "code",
   "execution_count": 3,
   "id": "1d1fa1dc-89ab-439e-8501-72492f3a0c4f",
   "metadata": {},
   "outputs": [],
   "source": [
    "schema = ['Name', 'Age']"
   ]
  },
  {
   "cell_type": "code",
   "execution_count": 4,
   "id": "72f51e88-bf1f-4768-af18-c3beb29bc710",
   "metadata": {},
   "outputs": [],
   "source": [
    "df = spark.createDataFrame(data=Name_Age,schema=schema)"
   ]
  },
  {
   "cell_type": "code",
   "execution_count": 5,
   "id": "7ead2b55-8666-47de-883e-d5e3b546cc9a",
   "metadata": {},
   "outputs": [
    {
     "name": "stdout",
     "output_type": "stream",
     "text": [
      "+------+---+\n",
      "|  Name|Age|\n",
      "+------+---+\n",
      "|황민태| 24|\n",
      "|김각윤| 24|\n",
      "|이신우| 25|\n",
      "|배기현| 30|\n",
      "|김현중| 37|\n",
      "|이순재| 50|\n",
      "|배현국| 77|\n",
      "|  서욱| 80|\n",
      "|김승재| 90|\n",
      "+------+---+\n",
      "\n"
     ]
    }
   ],
   "source": [
    "df.show()"
   ]
  },
  {
   "cell_type": "code",
   "execution_count": 6,
   "id": "02981387-2055-4e42-9831-11942112e360",
   "metadata": {},
   "outputs": [
    {
     "name": "stdout",
     "output_type": "stream",
     "text": [
      "root\n",
      " |-- Name: string (nullable = true)\n",
      " |-- Age: long (nullable = true)\n",
      "\n"
     ]
    }
   ],
   "source": [
    "df.printSchema()"
   ]
  },
  {
   "cell_type": "code",
   "execution_count": 7,
   "id": "1369237a-8635-421e-baba-a286a28a539f",
   "metadata": {},
   "outputs": [],
   "source": [
    "df.createOrReplaceTempView('Information')"
   ]
  },
  {
   "cell_type": "code",
   "execution_count": 8,
   "id": "7be869ae-a236-443c-8aaa-f1820b5e763c",
   "metadata": {},
   "outputs": [],
   "source": [
    "from pyspark.sql.functions import udf"
   ]
  },
  {
   "cell_type": "code",
   "execution_count": 9,
   "id": "cfaf08b3-92f0-4506-8e0d-778a2960c891",
   "metadata": {},
   "outputs": [],
   "source": [
    "def age_category(age):\n",
    "    if age < 35:\n",
    "        return 'young'\n",
    "    elif age < 60:\n",
    "        return 'adult'\n",
    "    else:\n",
    "        return 'senior'"
   ]
  },
  {
   "cell_type": "code",
   "execution_count": 10,
   "id": "24ed57ac-f157-4604-b641-efa35a293c1c",
   "metadata": {},
   "outputs": [
    {
     "data": {
      "text/plain": [
       "<function __main__.age_category(age)>"
      ]
     },
     "execution_count": 10,
     "metadata": {},
     "output_type": "execute_result"
    }
   ],
   "source": [
    "spark.udf.register('age_category',age_category)"
   ]
  },
  {
   "cell_type": "code",
   "execution_count": 11,
   "id": "f30d344e-bd6e-4567-b24c-64b7cd70fc41",
   "metadata": {},
   "outputs": [
    {
     "name": "stdout",
     "output_type": "stream",
     "text": [
      "+------+-----------------+\n",
      "|  name|age_category(age)|\n",
      "+------+-----------------+\n",
      "|황민태|            young|\n",
      "|김각윤|            young|\n",
      "|이신우|            young|\n",
      "|배기현|            young|\n",
      "|김현중|            adult|\n",
      "|이순재|            adult|\n",
      "|배현국|           senior|\n",
      "|  서욱|           senior|\n",
      "|김승재|           senior|\n",
      "+------+-----------------+\n",
      "\n"
     ]
    }
   ],
   "source": [
    "spark.sql('SELECT name,age_category(age) FROM Information').show()"
   ]
  },
  {
   "cell_type": "code",
   "execution_count": null,
   "id": "a95b7be9-69f1-4564-818a-ce0f1cc5be37",
   "metadata": {},
   "outputs": [],
   "source": []
  }
 ],
 "metadata": {
  "kernelspec": {
   "display_name": "Python 3 (ipykernel)",
   "language": "python",
   "name": "python3"
  },
  "language_info": {
   "codemirror_mode": {
    "name": "ipython",
    "version": 3
   },
   "file_extension": ".py",
   "mimetype": "text/x-python",
   "name": "python",
   "nbconvert_exporter": "python",
   "pygments_lexer": "ipython3",
   "version": "3.9.13"
  }
 },
 "nbformat": 4,
 "nbformat_minor": 5
}
